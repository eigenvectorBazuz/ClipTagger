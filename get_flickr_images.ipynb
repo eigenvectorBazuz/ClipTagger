{
 "cells": [
  {
   "cell_type": "code",
   "execution_count": 4,
   "id": "906b8478",
   "metadata": {},
   "outputs": [],
   "source": [
    "import flickrapi\n",
    "import requests\n",
    "import os\n",
    "from urllib.parse import urlparse\n",
    "\n",
    "# Your Flickr API key and secret\n",
    "api_key = '081bf0c4fa3437478b3bcfb747d418e4'\n",
    "api_secret = '1b7274b2f4129a69'\n",
    "\n",
    "# Initialize the Flickr API client\n",
    "flickr = flickrapi.FlickrAPI(api_key, api_secret, format='parsed-json')\n"
   ]
  },
  {
   "cell_type": "code",
   "execution_count": null,
   "id": "615c5c3f",
   "metadata": {},
   "outputs": [],
   "source": [
    "# Directories to save images\n",
    "indoor_dir = 'flickr_indoor_images'\n",
    "outdoor_dir = 'flickr_outdoor_images'\n",
    "os.makedirs(indoor_dir, exist_ok=True)\n",
    "os.makedirs(outdoor_dir, exist_ok=True)\n",
    "\n",
    "# Define search queries for indoor and outdoor scenes\n",
    "indoor_queries = ['living room', 'office', 'bedroom', 'kitchen', 'restaurant interior', 'classroom']\n",
    "outdoor_queries = ['mountain landscape', 'park', 'city street', 'beach', 'forest trail', 'outdoor market']\n",
    "\n",
    "# Function to download images from multiple search queries\n",
    "def download_images_from_queries(queries, directory, num_images):\n",
    "    count = 0\n",
    "    for query in queries:\n",
    "        photos = flickr.photos.search(\n",
    "            text=query, \n",
    "            per_page=num_images // len(queries), \n",
    "            media='photos', \n",
    "            content_type=1, \n",
    "            sort='relevance',\n",
    "            license='1,2,3,4,5,6,7',  # Optional: filter by Creative Commons licenses\n",
    "            extras='url_o,url_l,url_c,url_z'  # Fetch various sizes\n",
    "        )['photos']['photo']\n",
    "        \n",
    "        for photo in photos:\n",
    "            try:\n",
    "                # Try to download the largest available size\n",
    "                url = photo.get('url_o') or photo.get('url_l') or photo.get('url_c') or photo.get('url_z')\n",
    "                if url:\n",
    "                    response = requests.get(url, stream=True)\n",
    "                    parsed_url = urlparse(url)\n",
    "                    filename = os.path.basename(parsed_url.path)\n",
    "                    image_path = os.path.join(directory, filename)\n",
    "\n",
    "                    # Save the image\n",
    "                    with open(image_path, 'wb') as f:\n",
    "                        f.write(response.content)\n",
    "\n",
    "                    count += 1\n",
    "                    print(f\"Downloaded {count}/{num_images} images for {query}\")\n",
    "\n",
    "                # Stop if we reach the total number of images needed\n",
    "                if count >= num_images:\n",
    "                    break\n",
    "            except Exception as e:\n",
    "                print(f\"Error downloading image {photo['id']}: {e}\")\n",
    "        if count >= num_images:\n",
    "            break\n",
    "\n",
    "# Download indoor and outdoor images using specific scene search terms\n",
    "download_images_from_queries(indoor_queries, indoor_dir, 500)\n",
    "download_images_from_queries(outdoor_queries, outdoor_dir, 500)\n"
   ]
  },
  {
   "cell_type": "code",
   "execution_count": null,
   "id": "1ff49fba",
   "metadata": {},
   "outputs": [],
   "source": []
  }
 ],
 "metadata": {
  "kernelspec": {
   "display_name": "Python 3 (ipykernel)",
   "language": "python",
   "name": "python3"
  },
  "language_info": {
   "codemirror_mode": {
    "name": "ipython",
    "version": 3
   },
   "file_extension": ".py",
   "mimetype": "text/x-python",
   "name": "python",
   "nbconvert_exporter": "python",
   "pygments_lexer": "ipython3",
   "version": "3.9.13"
  }
 },
 "nbformat": 4,
 "nbformat_minor": 5
}
